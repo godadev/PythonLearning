{
 "cells": [
  {
   "cell_type": "code",
   "execution_count": 1,
   "metadata": {},
   "outputs": [
    {
     "name": "stdout",
     "output_type": "stream",
     "text": [
      "This is the full list:  ['a', 'b', 'c', 'b', 'd', 'm', 'n', 'n']\n",
      "List of duplicates:  ['b', 'n']\n",
      "List of uniques:  ['a', 'b', 'c', 'd', 'm', 'n']\n"
     ]
    }
   ],
   "source": [
    "some_list =['a', 'b', 'c', 'b', 'd', 'm', 'n', 'n']\n",
    "print('This is the full list: ', some_list)\n",
    "\n",
    "new_list = []\n",
    "dupl_list = []\n",
    "\n",
    "for item in some_list:\n",
    "    if item not in new_list:\n",
    "        new_list.append(item)\n",
    "    else:\n",
    "        dupl_list.append(item)\n",
    "\n",
    "print('List of duplicates: ', dupl_list)\n",
    "print('List of uniques: ', new_list)"
   ]
  }
 ],
 "metadata": {
  "kernelspec": {
   "display_name": "base",
   "language": "python",
   "name": "python3"
  },
  "language_info": {
   "codemirror_mode": {
    "name": "ipython",
    "version": 3
   },
   "file_extension": ".py",
   "mimetype": "text/x-python",
   "name": "python",
   "nbconvert_exporter": "python",
   "pygments_lexer": "ipython3",
   "version": "3.9.13"
  },
  "orig_nbformat": 4,
  "vscode": {
   "interpreter": {
    "hash": "b31df5e40a2ea5614eea9e37cfea4cb8c906f1ee256973763ea3407ba03e30ed"
   }
  }
 },
 "nbformat": 4,
 "nbformat_minor": 2
}
