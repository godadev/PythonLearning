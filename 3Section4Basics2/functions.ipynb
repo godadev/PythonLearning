{
 "cells": [
  {
   "cell_type": "markdown",
   "metadata": {},
   "source": [
    "### Functions"
   ]
  },
  {
   "cell_type": "code",
   "execution_count": 1,
   "metadata": {},
   "outputs": [
    {
     "name": "stdout",
     "output_type": "stream",
     "text": [
      "Hello asdasd\n"
     ]
    }
   ],
   "source": [
    "def say_hello(name):\n",
    "    print(f'Hello {name}')\n",
    "\n",
    "name = input('Tell us your name please: ')\n",
    "say_hello(name)"
   ]
  },
  {
   "cell_type": "code",
   "execution_count": 2,
   "metadata": {},
   "outputs": [
    {
     "name": "stdout",
     "output_type": "stream",
     "text": [
      "109\n",
      "18\n"
     ]
    }
   ],
   "source": [
    "def sum(num1, num2):\n",
    "    return (num1 + num2)\n",
    "\n",
    "\n",
    "mytotal = sum(4,5)\n",
    "print(mytotal + 100)\n",
    "print(sum(mytotal, mytotal))"
   ]
  },
  {
   "cell_type": "markdown",
   "metadata": {},
   "source": [
    "### Methods VS Functions\n",
    "Metode se kličejo na objektih in jih moramo tako tudi klicati.<br>\n",
    "Naprimer:"
   ]
  },
  {
   "cell_type": "code",
   "execution_count": 3,
   "metadata": {},
   "outputs": [
    {
     "name": "stdout",
     "output_type": "stream",
     "text": [
      "I am in method_abc of ABC class. \n",
      "[5, 4, 3, 2, 1]\n"
     ]
    }
   ],
   "source": [
    "class ABC :    \n",
    "    def method_abc (self):\n",
    "        print(\"I am in method_abc of ABC class. \")\n",
    "\n",
    "class_ref = ABC() # object of ABC class\n",
    "class_ref.method_abc()\n",
    "\n",
    "#---------------------------------------------------------------------------------------------\n",
    "mylist = [1, 2, 3, 4, 5]    #mylist je objekt tipa list, ki je vgrajen v Python, zato na njem lahko pokličemo metode.\n",
    "mylist.reverse()\n",
    "print(mylist)"
   ]
  },
  {
   "cell_type": "markdown",
   "metadata": {},
   "source": [
    "### Docstrings"
   ]
  },
  {
   "cell_type": "code",
   "execution_count": 4,
   "metadata": {
    "tags": []
   },
   "outputs": [
    {
     "name": "stdout",
     "output_type": "stream",
     "text": [
      "4\n"
     ]
    }
   ],
   "source": [
    "def test(a, b):\n",
    "    \"\"\"Function to sum a and b\n",
    "\n",
    "    Args:\n",
    "        a (integer): First number\n",
    "        b (integer): Second number\n",
    "    \"\"\"    \n",
    "\n",
    "    print(a + b)\n",
    "\n",
    "test(1, 3)"
   ]
  },
  {
   "cell_type": "markdown",
   "metadata": {},
   "source": [
    "### Lambda functions"
   ]
  },
  {
   "cell_type": "code",
   "execution_count": 5,
   "metadata": {},
   "outputs": [
    {
     "name": "stdout",
     "output_type": "stream",
     "text": [
      "30\n",
      "5.428571428571429\n",
      "Hello: \n"
     ]
    }
   ],
   "source": [
    "x = lambda a, b : a * b\n",
    "print(x(5, 6))\n",
    "\n",
    "my_lambda = lambda a, b, c, d : a * b - c / d\n",
    "print(my_lambda(2, 3, 4, 7))\n",
    "\n",
    "my_printed_lambda = lambda a : a\n",
    "print(my_printed_lambda('Hello: '))"
   ]
  },
  {
   "cell_type": "markdown",
   "metadata": {},
   "source": [
    "### *args and **kwargs"
   ]
  },
  {
   "cell_type": "code",
   "execution_count": 1,
   "metadata": {},
   "outputs": [
    {
     "data": {
      "text/plain": [
       "56"
      ]
     },
     "execution_count": 1,
     "metadata": {},
     "output_type": "execute_result"
    }
   ],
   "source": [
    "def super_func(*args,**kwargs):\n",
    "    total = 0\n",
    "    for items in kwargs.values(): # **kwargs dostopamo samo z zanko ker predsatvljajo key:value par\n",
    "        total += items\n",
    "    return sum(args) + total\n",
    "\n",
    "\n",
    "super_func(1, 3, 4, num1 = 3, num2 = 45)\n"
   ]
  },
  {
   "cell_type": "markdown",
   "metadata": {},
   "source": [
    "### Functions exercise"
   ]
  },
  {
   "cell_type": "code",
   "execution_count": 39,
   "metadata": {},
   "outputs": [
    {
     "name": "stdout",
     "output_type": "stream",
     "text": [
      "The highest even number is:100\n",
      "None\n",
      "100\n"
     ]
    }
   ],
   "source": [
    "#   Moja rešitev\n",
    "\n",
    "def highest_even_func(li):\n",
    "    highest_even_num = 0\n",
    "    for items in li: \n",
    "        if (items % 2) == 0:\n",
    "            if (items > highest_even_num):\n",
    "                highest_even_num = items\n",
    "    print(\"The highest even number is:\" + str(highest_even_num))\n",
    "\n",
    "\n",
    "print (highest_even_func([10, 2, 3, 5, 6, 8, 11, 23, 25, 24, 28, 100]))\n",
    "\n",
    "#   Rešitev, ki je bila v vajah\n",
    "\n",
    "def highest_even(num):\n",
    "    evens = []\n",
    "    for item in num:\n",
    "        if item %2 == 0:\n",
    "            evens.append(item)\n",
    "    return max(evens)\n",
    "\n",
    "my_highest_list = [10, 2, 3, 5, 6, 8, 11, 23, 25, 24, 28, 100]\n",
    "\n",
    "print (highest_even(my_highest_list))"
   ]
  },
  {
   "attachments": {},
   "cell_type": "markdown",
   "metadata": {},
   "source": [
    "### Walrus operator :="
   ]
  },
  {
   "cell_type": "code",
   "execution_count": 49,
   "metadata": {},
   "outputs": [
    {
     "name": "stdout",
     "output_type": "stream",
     "text": [
      "The string has 9 characters and is to long.\n",
      "9\n",
      "Helloooo\n",
      "8\n",
      "Hellooo\n",
      "7\n",
      "Helloo\n",
      "6\n",
      "Hello\n",
      "5\n",
      "Hell\n",
      "4\n",
      "Hel\n",
      "3\n",
      "He\n",
      "2\n",
      "H\n"
     ]
    }
   ],
   "source": [
    "a = \"Hellooooo\"\n",
    "\n",
    "if((n :=len(a)) > 5):\n",
    "    print(f\"The string has {n} characters and is to long.\")\n",
    "\n",
    "\n",
    "while ((n := len(a)) > 1):\n",
    "    print(n)\n",
    "    a = a[:-1]\n",
    "    print(a)\n"
   ]
  },
  {
   "attachments": {},
   "cell_type": "markdown",
   "metadata": {},
   "source": [
    "### Scope"
   ]
  },
  {
   "cell_type": "code",
   "execution_count": 69,
   "metadata": {},
   "outputs": [
    {
     "name": "stdout",
     "output_type": "stream",
     "text": [
      "   mujo \n",
      "5\n",
      "<class 'int'>\n",
      "mujo\n",
      "   MUJO \n",
      "   bujo \n",
      "   mujo \n",
      "<class 'tuple'>\n",
      "llo\n",
      "True\n"
     ]
    }
   ],
   "source": [
    "name = '   mujo '\n",
    "print(name) #   Spremenljivka ne obstaja\n",
    "x = int(5)\n",
    "print(x)\n",
    "print(type(x))\n",
    "print(name.strip())\n",
    "print(name.upper())\n",
    "print(name.replace(\"m\", \"b\"))\n",
    "\n",
    "test = \"Hello\"[0]\n",
    "numa = name\n",
    "print(numa)\n",
    "\n",
    "x = (\"apple\", \"banana\", \"cherry\")\n",
    "print(type(x))\n",
    "\n",
    "txt = \"Hello World\"\n",
    "x = txt[2:5]\n",
    "print(x)\n",
    "print(bool(\"abc\"))"
   ]
  }
 ],
 "metadata": {
  "kernelspec": {
   "display_name": "Python 3 (ipykernel)",
   "language": "python",
   "name": "python3"
  },
  "language_info": {
   "codemirror_mode": {
    "name": "ipython",
    "version": 3
   },
   "file_extension": ".py",
   "mimetype": "text/x-python",
   "name": "python",
   "nbconvert_exporter": "python",
   "pygments_lexer": "ipython3",
   "version": "3.9.13"
  },
  "vscode": {
   "interpreter": {
    "hash": "b31df5e40a2ea5614eea9e37cfea4cb8c906f1ee256973763ea3407ba03e30ed"
   }
  }
 },
 "nbformat": 4,
 "nbformat_minor": 4
}
