{
 "cells": [
  {
   "attachments": {},
   "cell_type": "markdown",
   "metadata": {},
   "source": [
    "### Functions"
   ]
  },
  {
   "cell_type": "code",
   "execution_count": 8,
   "metadata": {},
   "outputs": [
    {
     "name": "stdout",
     "output_type": "stream",
     "text": [
      "Hello asdad\n"
     ]
    }
   ],
   "source": [
    "def say_hello(name):\n",
    "    print(f'Hello {name}')\n",
    "\n",
    "name = input('Tell us your name please: ')\n",
    "say_hello(name)"
   ]
  },
  {
   "cell_type": "code",
   "execution_count": 15,
   "metadata": {},
   "outputs": [
    {
     "name": "stdout",
     "output_type": "stream",
     "text": [
      "109\n",
      "18\n"
     ]
    }
   ],
   "source": [
    "def sum(num1, num2):\n",
    "    return (num1 + num2)\n",
    "\n",
    "\n",
    "mytotal = sum(4,5)\n",
    "print(mytotal + 100)\n",
    "print(sum(mytotal, mytotal))"
   ]
  },
  {
   "attachments": {},
   "cell_type": "markdown",
   "metadata": {},
   "source": [
    "### Methods VS Functions\n",
    "Metode se kličejo na objektih in jih moramo tako tudi klicati.<br>\n",
    "Naprimer:"
   ]
  },
  {
   "cell_type": "code",
   "execution_count": 8,
   "metadata": {},
   "outputs": [
    {
     "name": "stdout",
     "output_type": "stream",
     "text": [
      "I am in method_abc of ABC class. \n",
      "[5, 4, 3, 2, 1]\n"
     ]
    }
   ],
   "source": [
    "class ABC :    \n",
    "    def method_abc (self):\n",
    "        print(\"I am in method_abc of ABC class. \")\n",
    "\n",
    "class_ref = ABC() # object of ABC class\n",
    "class_ref.method_abc()\n",
    "\n",
    "#---------------------------------------------------------------------------------------------\n",
    "mylist = [1, 2, 3, 4, 5]    #mylist je objekt tipa list, ki je vgrajen v Python, zato na njem lahko pokličemo metode.\n",
    "mylist.reverse()\n",
    "print(mylist)"
   ]
  },
  {
   "attachments": {},
   "cell_type": "markdown",
   "metadata": {},
   "source": [
    "### Docstrings"
   ]
  },
  {
   "cell_type": "code",
   "execution_count": 13,
   "metadata": {
    "tags": []
   },
   "outputs": [
    {
     "name": "stdout",
     "output_type": "stream",
     "text": [
      "4\n"
     ]
    },
    {
     "data": {
      "text/plain": [
       "<function __main__.test(a, b)>"
      ]
     },
     "execution_count": 13,
     "metadata": {},
     "output_type": "execute_result"
    }
   ],
   "source": [
    "def test(a, b):\n",
    "    \"\"\"Function to sum a and b\n",
    "\n",
    "    Args:\n",
    "        a (integer): First number\n",
    "        b (integer): Second number\n",
    "    \"\"\"    \n",
    "\n",
    "    print(a + b)\n",
    "\n",
    "test(1, 3)"
   ]
  },
  {
   "attachments": {},
   "cell_type": "markdown",
   "metadata": {},
   "source": [
    "### Lambda functions"
   ]
  },
  {
   "cell_type": "code",
   "execution_count": 21,
   "metadata": {},
   "outputs": [
    {
     "name": "stdout",
     "output_type": "stream",
     "text": [
      "30\n",
      "5.428571428571429\n",
      "Hello: \n"
     ]
    }
   ],
   "source": [
    "x = lambda a, b : a * b\n",
    "print(x(5, 6))\n",
    "\n",
    "my_lambda = lambda a, b, c, d : a * b - c / d\n",
    "print(my_lambda(2, 3, 4, 7))\n",
    "\n",
    "my_printed_lambda = lambda a : a\n",
    "print(my_printed_lambda('Hello: '))"
   ]
  },
  {
   "attachments": {},
   "cell_type": "markdown",
   "metadata": {},
   "source": [
    "### *args and **kwargs"
   ]
  },
  {
   "cell_type": "code",
   "execution_count": 5,
   "metadata": {},
   "outputs": [
    {
     "data": {
      "text/plain": [
       "56"
      ]
     },
     "execution_count": 5,
     "metadata": {},
     "output_type": "execute_result"
    }
   ],
   "source": [
    "def super_func(*args,**kwargs):\n",
    "    total = 0\n",
    "    for items in kwargs.values(): # **kwargs dostopamo samo z zanko ker predsatvljajo key:value par\n",
    "        total += items\n",
    "    return sum(args) + total\n",
    "\n",
    "\n",
    "super_func(1, 3, 4, num1 = 3, num2 = 45)\n"
   ]
  },
  {
   "attachments": {},
   "cell_type": "markdown",
   "metadata": {},
   "source": [
    "### Functions exercise"
   ]
  },
  {
   "cell_type": "code",
   "execution_count": null,
   "metadata": {},
   "outputs": [],
   "source": []
  }
 ],
 "metadata": {
  "kernelspec": {
   "display_name": "base",
   "language": "python",
   "name": "python3"
  },
  "language_info": {
   "codemirror_mode": {
    "name": "ipython",
    "version": 3
   },
   "file_extension": ".py",
   "mimetype": "text/x-python",
   "name": "python",
   "nbconvert_exporter": "python",
   "pygments_lexer": "ipython3",
   "version": "3.9.13"
  },
  "orig_nbformat": 4,
  "vscode": {
   "interpreter": {
    "hash": "b31df5e40a2ea5614eea9e37cfea4cb8c906f1ee256973763ea3407ba03e30ed"
   }
  }
 },
 "nbformat": 4,
 "nbformat_minor": 2
}
