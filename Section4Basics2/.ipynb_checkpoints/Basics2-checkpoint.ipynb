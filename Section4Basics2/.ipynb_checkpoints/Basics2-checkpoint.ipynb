{
 "cells": [
  {
   "cell_type": "markdown",
   "id": "452d0e5f-548f-489e-bd21-f28bc802ae5c",
   "metadata": {},
   "source": [
    "## Conditional logic"
   ]
  },
  {
   "cell_type": "code",
   "execution_count": 4,
   "id": "43c96838-c84a-4ab5-85dc-2b10311631d3",
   "metadata": {},
   "outputs": [
    {
     "name": "stdout",
     "output_type": "stream",
     "text": [
      "You are old enough to drive.\n"
     ]
    }
   ],
   "source": [
    "is_old = True\n",
    "is_licensed = True\n",
    "\n",
    "if is_old:\n",
    "    print('You are old enough to drive.')\n",
    "elif is_licensed:\n",
    "    print('You can drive')\n",
    "else:\n",
    "    print('You are not old enough')"
   ]
  },
  {
   "cell_type": "code",
   "execution_count": 38,
   "id": "38582f99-8f0a-49b3-8bc6-96af37ff120e",
   "metadata": {},
   "outputs": [
    {
     "name": "stdout",
     "output_type": "stream",
     "text": [
      "                                             2023\n",
      "\n",
      "          January                          February                          March\n",
      "Mon Tue Wed Thu Fri Sat Sun      Mon Tue Wed Thu Fri Sat Sun      Mon Tue Wed Thu Fri Sat Sun\n",
      "                          1                1   2   3   4   5                1   2   3   4   5\n",
      "  2   3   4   5   6   7   8        6   7   8   9  10  11  12        6   7   8   9  10  11  12\n",
      "  9  10  11  12  13  14  15       13  14  15  16  17  18  19       13  14  15  16  17  18  19\n",
      " 16  17  18  19  20  21  22       20  21  22  23  24  25  26       20  21  22  23  24  25  26\n",
      " 23  24  25  26  27  28  29       27  28                           27  28  29  30  31\n",
      " 30  31\n",
      "\n",
      "           April                             May                              June\n",
      "Mon Tue Wed Thu Fri Sat Sun      Mon Tue Wed Thu Fri Sat Sun      Mon Tue Wed Thu Fri Sat Sun\n",
      "                      1   2        1   2   3   4   5   6   7                    1   2   3   4\n",
      "  3   4   5   6   7   8   9        8   9  10  11  12  13  14        5   6   7   8   9  10  11\n",
      " 10  11  12  13  14  15  16       15  16  17  18  19  20  21       12  13  14  15  16  17  18\n",
      " 17  18  19  20  21  22  23       22  23  24  25  26  27  28       19  20  21  22  23  24  25\n",
      " 24  25  26  27  28  29  30       29  30  31                       26  27  28  29  30\n",
      "\n",
      "            July                            August                         September\n",
      "Mon Tue Wed Thu Fri Sat Sun      Mon Tue Wed Thu Fri Sat Sun      Mon Tue Wed Thu Fri Sat Sun\n",
      "                      1   2            1   2   3   4   5   6                        1   2   3\n",
      "  3   4   5   6   7   8   9        7   8   9  10  11  12  13        4   5   6   7   8   9  10\n",
      " 10  11  12  13  14  15  16       14  15  16  17  18  19  20       11  12  13  14  15  16  17\n",
      " 17  18  19  20  21  22  23       21  22  23  24  25  26  27       18  19  20  21  22  23  24\n",
      " 24  25  26  27  28  29  30       28  29  30  31                   25  26  27  28  29  30\n",
      " 31\n",
      "\n",
      "          October                          November                         December\n",
      "Mon Tue Wed Thu Fri Sat Sun      Mon Tue Wed Thu Fri Sat Sun      Mon Tue Wed Thu Fri Sat Sun\n",
      "                          1                1   2   3   4   5                        1   2   3\n",
      "  2   3   4   5   6   7   8        6   7   8   9  10  11  12        4   5   6   7   8   9  10\n",
      "  9  10  11  12  13  14  15       13  14  15  16  17  18  19       11  12  13  14  15  16  17\n",
      " 16  17  18  19  20  21  22       20  21  22  23  24  25  26       18  19  20  21  22  23  24\n",
      " 23  24  25  26  27  28  29       27  28  29  30                   25  26  27  28  29  30  31\n",
      " 30  31\n",
      "\n"
     ]
    }
   ],
   "source": [
    "import calendar\n",
    "\n",
    "print(calendar.calendar(2023, 3, 1, 6))"
   ]
  },
  {
   "cell_type": "code",
   "execution_count": 1,
   "id": "7701d142-bc32-4193-9e9b-42840ab90b24",
   "metadata": {},
   "outputs": [
    {
     "name": "stdout",
     "output_type": "stream",
     "text": [
      "You have enough\n"
     ]
    }
   ],
   "source": [
    "is_full = True\n",
    "is_all = True\n",
    "is_thirsty = False\n",
    "\n",
    "if is_full and is_all:\n",
    "    print('You have enough')\n",
    "elif is_thirsty:\n",
    "    print('You can drink some water')\n",
    "else:\n",
    "    print('Move on')"
   ]
  },
  {
   "cell_type": "markdown",
   "id": "960d4746-7801-4433-b455-ef0f3fee322b",
   "metadata": {},
   "source": [
    "## Ternary operator "
   ]
  },
  {
   "cell_type": "raw",
   "id": "cb134dad-7ff0-41fd-8302-906a1be854e3",
   "metadata": {},
   "source": [
    "condition_if_true if condition else condition_if_else"
   ]
  },
  {
   "cell_type": "code",
   "execution_count": 4,
   "id": "267d1c8c-239d-4213-bc7f-9786407b17bb",
   "metadata": {},
   "outputs": [
    {
     "name": "stdout",
     "output_type": "stream",
     "text": [
      "message allowed\n"
     ]
    }
   ],
   "source": [
    "is_friend = True\n",
    "\n",
    "can_message = 'message allowed' if is_friend else 'not allowed to message'\n",
    "\n",
    "print(can_message)"
   ]
  },
  {
   "cell_type": "code",
   "execution_count": 6,
   "id": "324ab12d-73a0-49a0-9f09-9f0808703aea",
   "metadata": {},
   "outputs": [
    {
     "name": "stdout",
     "output_type": "stream",
     "text": [
      "We dont know your surrname\n"
     ]
    }
   ],
   "source": [
    "name = 'Matejum'\n",
    "\n",
    "surrname = 'Music' if name == 'Matej' else 'We dont know your surrname'\n",
    "\n",
    "print(surrname)"
   ]
  },
  {
   "cell_type": "markdown",
   "id": "084ed481-dc3b-4289-bd5c-169374197e24",
   "metadata": {},
   "source": [
    "## Short Circuting "
   ]
  },
  {
   "cell_type": "code",
   "execution_count": 9,
   "id": "acd745c3-4b27-434c-8e5c-34a2c31ba8af",
   "metadata": {},
   "outputs": [
    {
     "name": "stdout",
     "output_type": "stream",
     "text": [
      "Best friends\n"
     ]
    }
   ],
   "source": [
    "is_friend = True\n",
    "is_user = True\n",
    "\n",
    "if is_friend or is_user: #uporaba or je hitrejša namesto and\n",
    "    print('Best friends')"
   ]
  },
  {
   "cell_type": "markdown",
   "id": "66921cd4-911c-492b-92b9-e62f6b793963",
   "metadata": {},
   "source": [
    "Logical operators:Exercise "
   ]
  },
  {
   "cell_type": "code",
   "execution_count": 12,
   "id": "8b73371b-59bf-46af-978d-3732e4d9a7c8",
   "metadata": {},
   "outputs": [
    {
     "name": "stdout",
     "output_type": "stream",
     "text": [
      "You need magic powers.\n"
     ]
    }
   ],
   "source": [
    "is_magician = False\n",
    "is_expert = True\n",
    "\n",
    "if is_magician and is_expert:\n",
    "    print('You are a master magician.')\n",
    "elif is_magician and not is_expert:\n",
    "    print('At least you are getting there.')\n",
    "elif is_magician == False:\n",
    "    print('You need magic powers.')"
   ]
  },
  {
   "cell_type": "markdown",
   "id": "f0eaf54e-8b89-44ad-bb63-c95871604062",
   "metadata": {},
   "source": [
    "## Iterables"
   ]
  },
  {
   "cell_type": "code",
   "execution_count": 22,
   "id": "b51e6861-d039-40aa-a7d7-fb3934bc56ac",
   "metadata": {},
   "outputs": [
    {
     "name": "stdout",
     "output_type": "stream",
     "text": [
      "name Golem\n",
      "age 5006\n",
      "can_swim False\n",
      "('name', 'Golem')\n",
      "('age', 5006)\n",
      "('can_swim', False)\n",
      "Golem\n",
      "5006\n",
      "False\n",
      "name\n",
      "age\n",
      "can_swim\n"
     ]
    }
   ],
   "source": [
    "#list, dictionary, tuple, set, string \n",
    "\n",
    "user = {\n",
    "    'name' : 'Golem',\n",
    "    'age' : 5006,\n",
    "    'can_swim' : False\n",
    "}\n",
    "\n",
    "for key, value in user.items():\n",
    "    print(key, value)\n",
    "    \n",
    "for item in user.items():\n",
    "    print(item)\n",
    "\n",
    "for item in user.values():\n",
    "    print(item)\n",
    "    \n",
    "for item in user.keys():\n",
    "    print(item)\n"
   ]
  },
  {
   "cell_type": "markdown",
   "id": "9ece8382-8a0b-4127-a20f-e479c59e77be",
   "metadata": {},
   "source": [
    "## Tricky Counter:Exercise "
   ]
  },
  {
   "cell_type": "code",
   "execution_count": 16,
   "id": "72ca9a51-332c-415d-9ca9-b77b2d5beb11",
   "metadata": {},
   "outputs": [
    {
     "name": "stdout",
     "output_type": "stream",
     "text": [
      "1\n",
      "2\n",
      "3\n",
      "4\n",
      "5\n",
      "6\n",
      "7\n",
      "8\n",
      "9\n",
      "10\n",
      "55\n"
     ]
    }
   ],
   "source": [
    "counter_list = [1, 2, 3, 4, 5, 6, 7, 8, 9, 10]\n",
    "\n",
    "counter_sum = 0\n",
    "for item in counter_list:\n",
    "    counter_sum = counter_sum + item\n",
    "    print(item)\n",
    "\n",
    "print(counter_sum)"
   ]
  },
  {
   "cell_type": "markdown",
   "id": "10d092db-9cbe-468f-9e8d-08e0c0498627",
   "metadata": {},
   "source": [
    "## Range()"
   ]
  },
  {
   "cell_type": "code",
   "execution_count": 21,
   "id": "9ab8d865-3495-45cf-b41b-a12d4bf0eff6",
   "metadata": {},
   "outputs": [
    {
     "name": "stdout",
     "output_type": "stream",
     "text": [
      "range(0, 100)\n",
      "0\n",
      "1\n",
      "2\n",
      "3\n",
      "4\n",
      "5\n",
      "6\n",
      "7\n",
      "8\n",
      "9\n"
     ]
    }
   ],
   "source": [
    "print(range(0, 100))\n",
    "\n",
    "for item in range(0, 10):\n",
    "    print(item)"
   ]
  },
  {
   "cell_type": "markdown",
   "id": "895001f3-fc1a-4188-b6f3-8797f8be967d",
   "metadata": {},
   "source": [
    "## Enumerate() "
   ]
  },
  {
   "cell_type": "code",
   "execution_count": 22,
   "id": "f249adbd-36fd-4440-8ec5-65ccfaba2a7f",
   "metadata": {},
   "outputs": [
    {
     "name": "stdout",
     "output_type": "stream",
     "text": [
      "(0, 'H')\n",
      "(1, 'e')\n",
      "(2, 'l')\n",
      "(3, 'l')\n",
      "(4, 'l')\n",
      "(5, 'o')\n",
      "(6, 'o')\n",
      "(7, 'o')\n",
      "(8, 'o')\n",
      "(9, 'o')\n",
      "(10, ' ')\n",
      "(11, 't')\n",
      "(12, 'h')\n",
      "(13, 'i')\n",
      "(14, 's')\n",
      "(15, ' ')\n",
      "(16, 'i')\n",
      "(17, 's')\n",
      "(18, ' ')\n",
      "(19, 'm')\n",
      "(20, 'i')\n",
      "(21, 'n')\n",
      "(22, 'e')\n"
     ]
    }
   ],
   "source": [
    "for char in enumerate('Helllooooo this is mine'):\n",
    "    print(char)\n",
    "    "
   ]
  },
  {
   "cell_type": "markdown",
   "id": "d6db34f7-e74f-470d-94ad-4843eaaa77e8",
   "metadata": {},
   "source": [
    "## While Loops"
   ]
  },
  {
   "cell_type": "code",
   "execution_count": null,
   "id": "77818a98-bddc-4cde-9602-cb6a3399d782",
   "metadata": {},
   "outputs": [],
   "source": []
  }
 ],
 "metadata": {
  "kernelspec": {
   "display_name": "Python 3 (ipykernel)",
   "language": "python",
   "name": "python3"
  },
  "language_info": {
   "codemirror_mode": {
    "name": "ipython",
    "version": 3
   },
   "file_extension": ".py",
   "mimetype": "text/x-python",
   "name": "python",
   "nbconvert_exporter": "python",
   "pygments_lexer": "ipython3",
   "version": "3.9.13"
  }
 },
 "nbformat": 4,
 "nbformat_minor": 5
}
