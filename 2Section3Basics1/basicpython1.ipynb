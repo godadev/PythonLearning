{
 "cells": [
  {
   "cell_type": "markdown",
   "id": "addad55b",
   "metadata": {},
   "source": [
    "## Variables "
   ]
  },
  {
   "cell_type": "code",
   "execution_count": 10,
   "id": "b64195d0",
   "metadata": {},
   "outputs": [
    {
     "name": "stdout",
     "output_type": "stream",
     "text": [
      "Matej Music. Age: 41\n"
     ]
    }
   ],
   "source": [
    "name = 'Matej'\n",
    "secname = 'Music'\n",
    "age = 41\n",
    "adress = 'Kopaliska 48 Slovenska Bistrica'\n",
    "postnumber = 2310\n",
    "\n",
    "print(name + ' ' + secname + '. ' + 'Age: ' + str(age))"
   ]
  },
  {
   "cell_type": "markdown",
   "id": "dbe4c166",
   "metadata": {},
   "source": [
    "## Expression vs Statement"
   ]
  },
  {
   "cell_type": "code",
   "execution_count": 12,
   "id": "5c3abdbe",
   "metadata": {},
   "outputs": [],
   "source": [
    "iq = 100\n",
    "user_age = iq / 5"
   ]
  },
  {
   "cell_type": "markdown",
   "id": "78d16125",
   "metadata": {},
   "source": [
    "Expression is what comes after the = simbol.\n",
    "\n",
    "A statement is the whole code line"
   ]
  },
  {
   "cell_type": "markdown",
   "id": "1ef9970f",
   "metadata": {},
   "source": [
    "## Strings "
   ]
  },
  {
   "cell_type": "code",
   "execution_count": 16,
   "id": "4c66d009",
   "metadata": {},
   "outputs": [
    {
     "name": "stdout",
     "output_type": "stream",
     "text": [
      "Your name\n",
      "<class 'str'>\n",
      "Three quotes are used \n",
      "                for long strings on multiple lines\n"
     ]
    }
   ],
   "source": [
    "name = 'Your name'\n",
    "print(name)\n",
    "print(type(name))\n",
    "\n",
    "long_string = '''Three quotes are used \n",
    "                for long strings on multiple lines'''\n",
    "\n",
    "print(long_string)"
   ]
  },
  {
   "cell_type": "markdown",
   "id": "0a7ca73c",
   "metadata": {},
   "source": [
    "## Escape sequences "
   ]
  },
  {
   "cell_type": "code",
   "execution_count": 19,
   "id": "85ce447b",
   "metadata": {},
   "outputs": [
    {
     "name": "stdout",
     "output_type": "stream",
     "text": [
      "It's \"kind of\" sunny today\n"
     ]
    }
   ],
   "source": [
    "weather = \"It\\'s \\\"kind of\\\" sunny today\"\n",
    "print(weather)"
   ]
  },
  {
   "cell_type": "markdown",
   "id": "cbc985f1",
   "metadata": {},
   "source": [
    "## Other escape sequences are:"
   ]
  },
  {
   "cell_type": "markdown",
   "id": "f20711eb",
   "metadata": {},
   "source": [
    "\\t = tab\n",
    "\n",
    "\\n = new line\n",
    "\n",
    "\\ escapes the ' in a string\n",
    "\n",
    "Go to python web site and see docs for escape sequnces\n"
   ]
  },
  {
   "cell_type": "markdown",
   "id": "167e1696",
   "metadata": {},
   "source": [
    "## f-Strings "
   ]
  },
  {
   "cell_type": "code",
   "execution_count": 25,
   "id": "73ff78f8",
   "metadata": {},
   "outputs": [
    {
     "name": "stdout",
     "output_type": "stream",
     "text": [
      "Hi Matej Music. You are 42.\n"
     ]
    }
   ],
   "source": [
    "name = 'Matej'\n",
    "secname = 'Music'\n",
    "age = '42'\n",
    "\n",
    "print(f'Hi {name} {secname}. You are {age}.')"
   ]
  },
  {
   "cell_type": "markdown",
   "id": "a227ac7b",
   "metadata": {},
   "source": [
    "## String indexes"
   ]
  },
  {
   "cell_type": "code",
   "execution_count": 15,
   "id": "3c18997f",
   "metadata": {},
   "outputs": [
    {
     "name": "stdout",
     "output_type": "stream",
     "text": [
      "The sentence is 574 character long.\n",
      "p\n"
     ]
    }
   ],
   "source": [
    "long_string = '''Lorem Ipsum is simply dummy text of the printing and typesetting industry. Lorem Ipsum has been the industry's standard dummy text ever since the 1500s, when an unknown printer took a galley of type and scrambled it to make a type specimen book. It has survived not only five centuries, but also the leap into electronic typesetting, remaining essentially unchanged. It was popularised in the 1960s with the release of Letraset sheets containing Lorem Ipsum passages, and more recently with desktop publishing software like Aldus PageMaker including versions of Lorem Ipsum.'''\n",
    "\n",
    "print(f'The sentence is {len(long_string)} character long.')\n",
    "\n",
    "print(long_string[40])\n"
   ]
  },
  {
   "cell_type": "code",
   "execution_count": 2,
   "id": "d200afcc",
   "metadata": {},
   "outputs": [
    {
     "name": "stdout",
     "output_type": "stream",
     "text": [
      "PyMongo version is: 4.3.3\n"
     ]
    }
   ],
   "source": [
    "import pymongo\n",
    "\n",
    "print('PyMongo version is: ' + pymongo.version)\n"
   ]
  },
  {
   "cell_type": "markdown",
   "id": "3e760909",
   "metadata": {},
   "source": [
    "## Booleans "
   ]
  },
  {
   "cell_type": "code",
   "execution_count": 37,
   "id": "a057f6b9",
   "metadata": {},
   "outputs": [
    {
     "name": "stdout",
     "output_type": "stream",
     "text": [
      "Matej\n"
     ]
    }
   ],
   "source": [
    "myname = 'Matej'\n",
    "yourname = 'Cene'\n",
    "\n",
    "is_cool = True\n",
    "\n",
    "if is_cool:\n",
    "    print(myname)\n"
   ]
  },
  {
   "cell_type": "code",
   "execution_count": 2,
   "id": "3ecf8378",
   "metadata": {},
   "outputs": [
    {
     "name": "stdout",
     "output_type": "stream",
     "text": [
      "What year were you born.  200\n"
     ]
    },
    {
     "name": "stdout",
     "output_type": "stream",
     "text": [
      "You are 1823 years old.\n"
     ]
    }
   ],
   "source": [
    "birth_year = input(\"What year were you born. \")\n",
    "age = 2023 - int(birth_year)\n",
    "print(f'You are {age} years old.')"
   ]
  },
  {
   "cell_type": "markdown",
   "id": "4ac33aa4-3bc2-4c3f-b187-478e3ab92eaa",
   "metadata": {},
   "source": [
    "## Comments"
   ]
  },
  {
   "cell_type": "code",
   "execution_count": 2,
   "id": "c83bec69-1a72-4236-9cb9-e6220cfcbdc8",
   "metadata": {},
   "outputs": [],
   "source": [
    "#This is a single line comment"
   ]
  },
  {
   "cell_type": "markdown",
   "id": "1bab7f29-eb2d-4108-9789-53e9b2999263",
   "metadata": {},
   "source": [
    "## Exercise: Password checker "
   ]
  },
  {
   "cell_type": "code",
   "execution_count": 6,
   "id": "14ea8201-7cb2-4785-9be5-68454af2cb67",
   "metadata": {},
   "outputs": [
    {
     "name": "stdout",
     "output_type": "stream",
     "text": [
      "Please enter your username:  Mujo\n",
      "Please enter your password:  asdasd\n"
     ]
    },
    {
     "name": "stdout",
     "output_type": "stream",
     "text": [
      "Mujo your password ****** is 6 characters long.\n"
     ]
    }
   ],
   "source": [
    "username = input('Please enter your username: ')\n",
    "password = input('Please enter your password: ')\n",
    "password_length = len(password)\n",
    "\n",
    "print(f'{username} your password {\"*\" * password_length} is {password_length} characters long.')"
   ]
  },
  {
   "cell_type": "markdown",
   "id": "cda6e73c-d384-4765-a944-835e35e0aed8",
   "metadata": {},
   "source": [
    "## Lists "
   ]
  },
  {
   "cell_type": "markdown",
   "id": "dd4a9baf-ddd5-46e3-bcff-f896c18209a5",
   "metadata": {},
   "source": [
    "Lists are pythons first data structure\n",
    "\n",
    "Lists are mutable. Strings are not.\n",
    "\n"
   ]
  },
  {
   "cell_type": "code",
   "execution_count": 22,
   "id": "b875648e-477e-49df-b7cd-e43547d454e2",
   "metadata": {},
   "outputs": [
    {
     "name": "stdout",
     "output_type": "stream",
     "text": [
      "[1, 2, 3, 4, 5]\n",
      "3\n",
      "True\n",
      "[1, 2, 3]\n",
      "[1, 2, 3, 4, 5]\n"
     ]
    }
   ],
   "source": [
    "mylist = [1, 2, 3, 4, 5]\n",
    "mylist2 = ['a', 'b', 'c']\n",
    "mylist3 = [1, 2, 'a', True]\n",
    "\n",
    "print(mylist)\n",
    "print(len(mylist2))\n",
    "print(mylist3[3])\n",
    "print(mylist[0:-2:1])#Start index, end index, step of how many\n",
    "print(mylist[0:len(mylist):1])#Start index, end index, step of how many"
   ]
  },
  {
   "cell_type": "markdown",
   "id": "d45fbce3-b862-4226-a4f8-f6b71ff45121",
   "metadata": {},
   "source": [
    "## Matrix / List"
   ]
  },
  {
   "cell_type": "code",
   "execution_count": 23,
   "id": "2c016b05-5eb4-46b1-b99c-ca494b994765",
   "metadata": {},
   "outputs": [
    {
     "name": "stdout",
     "output_type": "stream",
     "text": [
      "2\n"
     ]
    }
   ],
   "source": [
    "matrix = [\n",
    "    [1,2,3],\n",
    "    [4,5,6],\n",
    "    [7,8,9]\n",
    "]\n",
    "\n",
    "print(matrix[0][1])"
   ]
  },
  {
   "cell_type": "markdown",
   "id": "f9912c0b-ff79-4b50-b640-a511e1426ef3",
   "metadata": {},
   "source": [
    "## List Methods"
   ]
  },
  {
   "cell_type": "code",
   "execution_count": 25,
   "id": "df1594a5-efa7-4895-8359-e21a18b1dc5e",
   "metadata": {},
   "outputs": [
    {
     "name": "stdout",
     "output_type": "stream",
     "text": [
      "8\n",
      "[1, 2, 3, 4, 5, 6, 7, 8, 100]\n",
      "[1, 2, 3, 4, 5, 200, 6, 7, 8, 100]\n",
      "[1, 2, 3, 4, 5, 200, 6, 7, 8, 100, 100, 101]\n",
      "[1, 2, 3, 4, 5, 200, 6, 7, 8, 100, 100]\n",
      "[1, 2, 3, 4, 200, 6, 7, 8, 100, 100]\n",
      "True\n",
      "False\n",
      "2\n",
      "0\n",
      "[1, 2, 3, 4, 6, 7, 8, 100, 100, 200]\n",
      "[1, 2, 3, 4, 5, 6, 7, 8, 9, 10, 11, 12, 13, 14, 15, 16, 17, 18, 19, 20, 21, 22, 23, 24, 25, 26, 27, 28, 29, 30, 31, 32, 33, 34, 35, 36, 37, 38, 39, 40, 41, 42, 43, 44, 45, 46, 47, 48, 49, 50, 51, 52, 53, 54, 55, 56, 57, 58, 59, 60, 61, 62, 63, 64, 65, 66, 67, 68, 69, 70, 71, 72, 73, 74, 75, 76, 77, 78, 79, 80, 81, 82, 83, 84, 85, 86, 87, 88, 89, 90, 91, 92, 93, 94, 95, 96, 97, 98, 99]\n",
      "Hi. My name is Matej.\n",
      "n\n"
     ]
    }
   ],
   "source": [
    "basket =[1, 2, 3, 4, 5, 6, 7, 8]\n",
    "print(len(basket))\n",
    "\n",
    "basket.append(100)\n",
    "new_list = basket\n",
    "print(new_list)\n",
    "basket.insert(5, 200)\n",
    "print(basket)\n",
    "\n",
    "basket.extend([100, 101])\n",
    "print(basket)\n",
    "\n",
    "basket.pop()\n",
    "print(basket)\n",
    "\n",
    "basket.remove(5)\n",
    "print(basket)\n",
    "\n",
    "print(3 in basket)\n",
    "print(1000 in basket)\n",
    "\n",
    "print(basket.count(100))\n",
    "print(basket.count(1000))\n",
    "\n",
    "basket.sort()\n",
    "print(basket)\n",
    "\n",
    "mylist = list(range(1, 100))\n",
    "print(mylist)\n",
    "\n",
    "sentence = ' '.join(['Hi.', 'My', 'name', 'is', 'Matej.'])\n",
    "print(sentence)\n",
    "\n",
    "print(sentence[7])"
   ]
  },
  {
   "cell_type": "markdown",
   "id": "62688f1e-79aa-4a77-b101-53bcf9255820",
   "metadata": {},
   "source": [
    "## List unpacking "
   ]
  },
  {
   "cell_type": "code",
   "execution_count": 31,
   "id": "6d1f7a0f-b09e-466d-a411-ef4640997e66",
   "metadata": {},
   "outputs": [
    {
     "name": "stdout",
     "output_type": "stream",
     "text": [
      "1\n",
      "2\n",
      "3\n",
      "[4, 5, 6, 7, 8]\n",
      "9\n"
     ]
    }
   ],
   "source": [
    "a, b, c, *other, d = [1, 2, 3, 4, 5, 6, 7, 8, 9]\n",
    "print(a)\n",
    "print(b)\n",
    "print(c)\n",
    "print(other)\n",
    "print(d)"
   ]
  },
  {
   "cell_type": "code",
   "execution_count": 85,
   "id": "0a0eb070-f2e6-4a99-ac68-096fa1a06f5c",
   "metadata": {},
   "outputs": [
    {
     "name": "stdout",
     "output_type": "stream",
     "text": [
      "[60, 2, 32, 51, 70, 40, 94, 29, 50, 88, 67, 93, 81, 96, 55, 31, 79, 41, 71, 24, 97, 18]\n"
     ]
    }
   ],
   "source": [
    "import random\n",
    "\n",
    "def list_display(*args):\n",
    "    print(*args)\n",
    "    \n",
    "packed_list = random.sample(range(1, 100), 22)\n",
    "#print(dir(packed_list)) Funkcija ki prikaže kaj se da z objektom naredit\n",
    "\n",
    "list_display(packed_list)"
   ]
  },
  {
   "cell_type": "markdown",
   "id": "c6c645f0-c41b-47dd-86d9-aeb49b225f13",
   "metadata": {},
   "source": [
    "## Dictionaries"
   ]
  },
  {
   "cell_type": "code",
   "execution_count": 92,
   "id": "7403f021-94ae-44af-8387-6a62bf433073",
   "metadata": {},
   "outputs": [
    {
     "name": "stdout",
     "output_type": "stream",
     "text": [
      "2\n"
     ]
    }
   ],
   "source": [
    "# Dictionaries are using curly braces\n",
    "\n",
    "\n",
    "dictionary = {\n",
    "    'a' : [1, 2, 3],\n",
    "    'b' : 'Hello',\n",
    "    'c' : 3\n",
    "}\n",
    "\n",
    "print(dictionary['a'][1])"
   ]
  },
  {
   "cell_type": "markdown",
   "id": "65f3c5e7-6058-4bef-bb9f-93b2891510a6",
   "metadata": {},
   "source": [
    "## Dictionary keys"
   ]
  },
  {
   "cell_type": "code",
   "execution_count": 8,
   "id": "f6777580-ad73-44f0-8f7c-7d3385b70938",
   "metadata": {},
   "outputs": [
    {
     "name": "stdout",
     "output_type": "stream",
     "text": [
      "2\n",
      "Hello\n"
     ]
    }
   ],
   "source": [
    "key_dictionary ={\n",
    "    'weapons' : [1, 2, 3],\n",
    "     123 : 'Hello',\n",
    "    'is_magic' : True\n",
    "}\n",
    "\n",
    "print(key_dictionary['weapons'][1])\n",
    "print(key_dictionary[123])"
   ]
  },
  {
   "cell_type": "markdown",
   "id": "6e628e2a-6ac1-4931-9038-f7947fdee87e",
   "metadata": {},
   "source": [
    "## Dictionary methods "
   ]
  },
  {
   "cell_type": "code",
   "execution_count": 16,
   "id": "fd543548-e8e5-4594-8992-71aa05c285b8",
   "metadata": {},
   "outputs": [
    {
     "name": "stdout",
     "output_type": "stream",
     "text": [
      "20\n",
      "{'name': 'Matej'}\n",
      "True\n",
      "dict_items([('basket', [1, 2, 3]), ('greet', 'hello'), ('age', 20)])\n"
     ]
    }
   ],
   "source": [
    "user = {\n",
    "    'basket' : [1, 2, 3],\n",
    "    'greet' : 'hello',\n",
    "    'age' : 20\n",
    "}\n",
    "\n",
    "print(user.get('age', 55)) # If age doesnt exist use 55 as default\n",
    "\n",
    "user2 = dict(name = 'Matej') # Another way of creating a dictionary\n",
    "print(user2)\n",
    "\n",
    "print('basket' in user)\n",
    "print(user.items())"
   ]
  },
  {
   "cell_type": "markdown",
   "id": "1d0268ba-97c2-4ca0-89c7-8deadb11a2ff",
   "metadata": {},
   "source": [
    "## Tuples"
   ]
  },
  {
   "cell_type": "code",
   "execution_count": 19,
   "id": "40852574-d308-4369-ac10-22dcf842e8f2",
   "metadata": {},
   "outputs": [
    {
     "name": "stdout",
     "output_type": "stream",
     "text": [
      "(1, 2, 3, 4, 5, 6)\n",
      "1\n"
     ]
    }
   ],
   "source": [
    "my_tuple = (1, 2, 3, 4, 5, 6)\n",
    "print(my_tuple)\n",
    "print(my_tuple.count(3))"
   ]
  },
  {
   "cell_type": "markdown",
   "id": "468107e9-c9d7-4e94-9e8f-bb68d5814fa7",
   "metadata": {},
   "source": [
    "## Sets"
   ]
  },
  {
   "cell_type": "code",
   "execution_count": 25,
   "id": "35231c27-a674-4cc3-b2c4-10ebed9fe9b0",
   "metadata": {},
   "outputs": [
    {
     "name": "stdout",
     "output_type": "stream",
     "text": [
      "{1, 2, 3, 4, 5, 6, 100, 22}\n"
     ]
    }
   ],
   "source": [
    "my_set = {1, 2, 3, 4, 5, 6}\n",
    "my_set.add(100)\n",
    "my_set.add(22)\n",
    "my_set.add(2)\n",
    "\n",
    "print(my_set)"
   ]
  }
 ],
 "metadata": {
  "kernelspec": {
   "display_name": "base",
   "language": "python",
   "name": "python3"
  },
  "language_info": {
   "codemirror_mode": {
    "name": "ipython",
    "version": 3
   },
   "file_extension": ".py",
   "mimetype": "text/x-python",
   "name": "python",
   "nbconvert_exporter": "python",
   "pygments_lexer": "ipython3",
   "version": "3.9.13"
  },
  "vscode": {
   "interpreter": {
    "hash": "b31df5e40a2ea5614eea9e37cfea4cb8c906f1ee256973763ea3407ba03e30ed"
   }
  }
 },
 "nbformat": 4,
 "nbformat_minor": 5
}
