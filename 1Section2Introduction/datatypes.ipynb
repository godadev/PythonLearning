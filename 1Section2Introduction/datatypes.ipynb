{
 "cells": [
  {
   "cell_type": "markdown",
   "id": "515e09eb",
   "metadata": {},
   "source": [
    "## Numpy"
   ]
  },
  {
   "cell_type": "code",
   "execution_count": 1,
   "id": "9b9fad09",
   "metadata": {},
   "outputs": [
    {
     "data": {
      "text/plain": [
       "array([[0.40174025, 0.52448657, 0.59659606],\n",
       "       [0.43100222, 0.51425008, 0.29385331]])"
      ]
     },
     "execution_count": 1,
     "metadata": {},
     "output_type": "execute_result"
    }
   ],
   "source": [
    "import numpy as np\n",
    "\n",
    "myarr = np.random.rand(2, 3)\n",
    "myarr"
   ]
  },
  {
   "cell_type": "markdown",
   "id": "755ac6df",
   "metadata": {},
   "source": [
    "## Other"
   ]
  },
  {
   "cell_type": "code",
   "execution_count": 3,
   "id": "675e298e",
   "metadata": {},
   "outputs": [
    {
     "name": "stdin",
     "output_type": "stream",
     "text": [
      "Please enter a name.  12\n"
     ]
    },
    {
     "name": "stdout",
     "output_type": "stream",
     "text": [
      "Hello 12\n"
     ]
    }
   ],
   "source": [
    "name = input('Please enter a name. ')\n",
    "\n",
    "if name == '':\n",
    "    print('Name is empty')\n",
    "else:\n",
    "    print(f'Hello {name}')"
   ]
  },
  {
   "cell_type": "code",
   "execution_count": 5,
   "id": "201ce812-a84a-4f3a-94ec-b2a48638fe68",
   "metadata": {},
   "outputs": [
    {
     "name": "stdout",
     "output_type": "stream",
     "text": [
      "4.3.3\n"
     ]
    }
   ],
   "source": [
    "import pymongo\n",
    "\n",
    "print(pymongo.version)"
   ]
  }
 ],
 "metadata": {
  "kernelspec": {
   "display_name": "Python 3 (ipykernel)",
   "language": "python",
   "name": "python3"
  },
  "language_info": {
   "codemirror_mode": {
    "name": "ipython",
    "version": 3
   },
   "file_extension": ".py",
   "mimetype": "text/x-python",
   "name": "python",
   "nbconvert_exporter": "python",
   "pygments_lexer": "ipython3",
   "version": "3.9.13"
  }
 },
 "nbformat": 4,
 "nbformat_minor": 5
}
