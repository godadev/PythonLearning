{
 "cells": [
  {
   "cell_type": "markdown",
   "id": "515e09eb",
   "metadata": {},
   "source": [
    "## Numpy"
   ]
  },
  {
   "cell_type": "code",
   "execution_count": null,
   "id": "9b9fad09",
   "metadata": {},
   "outputs": [],
   "source": [
    "import numpy as np\n",
    "\n",
    "myarr = np.random.rand(2, 3)\n",
    "myarr"
   ]
  },
  {
   "cell_type": "markdown",
   "id": "755ac6df",
   "metadata": {},
   "source": [
    "## Other"
   ]
  },
  {
   "cell_type": "code",
   "execution_count": null,
   "id": "675e298e",
   "metadata": {},
   "outputs": [],
   "source": [
    "name = input('Please enter a name. ')\n",
    "\n",
    "if name == '':\n",
    "    print('Name is empty')\n",
    "else:\n",
    "    print(f'Hello {name}')"
   ]
  }
 ],
 "metadata": {
  "kernelspec": {
   "display_name": "Python 3 (ipykernel)",
   "language": "python",
   "name": "python3"
  },
  "language_info": {
   "codemirror_mode": {
    "name": "ipython",
    "version": 3
   },
   "file_extension": ".py",
   "mimetype": "text/x-python",
   "name": "python",
   "nbconvert_exporter": "python",
   "pygments_lexer": "ipython3",
   "version": "3.9.13"
  }
 },
 "nbformat": 4,
 "nbformat_minor": 5
}
